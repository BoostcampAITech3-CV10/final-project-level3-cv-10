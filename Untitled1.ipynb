{
 "cells": [
  {
   "cell_type": "code",
   "execution_count": 1,
   "id": "4c48adfe-37da-4838-b65f-2b190386f4d4",
   "metadata": {},
   "outputs": [
    {
     "name": "stderr",
     "output_type": "stream",
     "text": [
      "/opt/conda/lib/python3.8/site-packages/tqdm/auto.py:22: TqdmWarning: IProgress not found. Please update jupyter and ipywidgets. See https://ipywidgets.readthedocs.io/en/stable/user_install.html\n",
      "  from .autonotebook import tqdm as notebook_tqdm\n",
      "2022-05-31 04:39:08.687754: W tensorflow/stream_executor/platform/default/dso_loader.cc:64] Could not load dynamic library 'libcudart.so.11.0'; dlerror: libcudart.so.11.0: cannot open shared object file: No such file or directory; LD_LIBRARY_PATH: /usr/local/nvidia/lib:/usr/local/nvidia/lib64\n",
      "2022-05-31 04:39:08.687799: I tensorflow/stream_executor/cuda/cudart_stub.cc:29] Ignore above cudart dlerror if you do not have a GPU set up on your machine.\n"
     ]
    }
   ],
   "source": [
    "from face_extractor.face_extractor_2 import FaceExtractor"
   ]
  },
  {
   "cell_type": "code",
   "execution_count": 2,
   "id": "d42e3d57-328f-43a7-ba94-7a1653a4e453",
   "metadata": {},
   "outputs": [
    {
     "name": "stdout",
     "output_type": "stream",
     "text": [
      "--------------------------------------------------------------------------------\n",
      "[Source Video File]: /opt/ml/input/final-project-level3-cv-10/data/sample1_0-300s.mp4\n",
      "[Frame resolution H x W]: (720.0 x 1280.0)\n",
      "[FPS]: 24\n",
      "[Total number of frames]: 7200\n",
      "[Total number of seconds]: 300\n",
      "[Similiarty Threshold]: 0.36\n",
      "Process every 1 secs (24 frames)\n",
      "--------------------------------------------------------------------------------\n"
     ]
    }
   ],
   "source": [
    "extractor = FaceExtractor(\n",
    "    '/opt/ml/input/final-project-level3-cv-10/data/sample1_0-300s.mp4',\n",
    "    '/opt/ml/input/final-project-level3-cv-10/data/',\n",
    "    '/opt/ml/input/final-project-level3-cv-10/result'\n",
    ")"
   ]
  },
  {
   "cell_type": "code",
   "execution_count": null,
   "id": "73b8a416-71aa-4753-a9ec-05a3bb89d466",
   "metadata": {},
   "outputs": [],
   "source": [
    "fingerprints = extractor.extract_fingerprints()\n",
    "clusters = extractor.cluster_fingerprints(fingerprints)"
   ]
  },
  {
   "cell_type": "code",
   "execution_count": null,
   "id": "62583df6-7b97-4e7a-b484-404489a03c58",
   "metadata": {},
   "outputs": [],
   "source": []
  }
 ],
 "metadata": {
  "kernelspec": {
   "display_name": "Python 3 (ipykernel)",
   "language": "python",
   "name": "python3"
  },
  "language_info": {
   "codemirror_mode": {
    "name": "ipython",
    "version": 3
   },
   "file_extension": ".py",
   "mimetype": "text/x-python",
   "name": "python",
   "nbconvert_exporter": "python",
   "pygments_lexer": "ipython3",
   "version": "3.8.5"
  }
 },
 "nbformat": 4,
 "nbformat_minor": 5
}
