{
 "cells": [
  {
   "cell_type": "code",
   "execution_count": 17,
   "id": "1df35b41-4716-4f72-bb4e-06b3234bb7d0",
   "metadata": {},
   "outputs": [],
   "source": [
    "import os\n",
    "import os.path as osp\n",
    "import numpy as np\n",
    "\n",
    "merged_cluster_dir = '/opt/ml/input/final-project-level3-cv-10/result/imagecluster/merged_clusters'\n",
    "result_dir = '/opt/ml/input/final-project-level3-cv-10/result'"
   ]
  },
  {
   "cell_type": "code",
   "execution_count": null,
   "id": "8e689467-7470-4767-a5f0-ec78702c8090",
   "metadata": {},
   "outputs": [],
   "source": [
    "def calculate_ICD(cluster_dir):\n",
    "    '''\n",
    "    Calculate Intra-Cluster Dispersion (S_i)\n",
    "    '''\n",
    "    centroid = np.zeros(256)\n",
    "    encodings = np.empty(256)\n",
    "    num_points = 0\n",
    "    for cluster_img_path in os.listdir(cluster_dir):\n",
    "        result_img_path = osp.join(result_dir, cluster_img_path.split('/')[-1])\n",
    "        print(result_img_path)\n",
    "        fingerprint = fingerprints[result_img_path]\n",
    "        encodings = np.vstack((encodings, fingerprint))\n",
    "        centroid += fingerprint\n",
    "        num_points += 1\n",
    "        \n",
    "        \n",
    "        \n",
    "    \n",
    "    "
   ]
  },
  {
   "cell_type": "code",
   "execution_count": 16,
   "id": "c6db5b03-4851-4e32-a386-ffb240763105",
   "metadata": {},
   "outputs": [
    {
     "name": "stdout",
     "output_type": "stream",
     "text": [
      "/opt/ml/input/final-project-level3-cv-10/result/imagecluster/merged_clusters/cluster_with_21/cluster_0\n",
      "/opt/ml/input/final-project-level3-cv-10/result/imagecluster/merged_clusters/cluster_with_4/cluster_0\n",
      "/opt/ml/input/final-project-level3-cv-10/result/imagecluster/merged_clusters/cluster_with_30/cluster_0\n",
      "/opt/ml/input/final-project-level3-cv-10/result/imagecluster/merged_clusters/cluster_with_5/cluster_0\n",
      "/opt/ml/input/final-project-level3-cv-10/result/imagecluster/merged_clusters/cluster_with_31/cluster_0\n",
      "/opt/ml/input/final-project-level3-cv-10/result/imagecluster/merged_clusters/cluster_with_7/cluster_0\n",
      "/opt/ml/input/final-project-level3-cv-10/result/imagecluster/merged_clusters/cluster_with_3/cluster_5\n",
      "/opt/ml/input/final-project-level3-cv-10/result/imagecluster/merged_clusters/cluster_with_3/cluster_2\n",
      "/opt/ml/input/final-project-level3-cv-10/result/imagecluster/merged_clusters/cluster_with_3/cluster_4\n",
      "/opt/ml/input/final-project-level3-cv-10/result/imagecluster/merged_clusters/cluster_with_3/cluster_1\n",
      "/opt/ml/input/final-project-level3-cv-10/result/imagecluster/merged_clusters/cluster_with_3/cluster_0\n",
      "/opt/ml/input/final-project-level3-cv-10/result/imagecluster/merged_clusters/cluster_with_3/cluster_3\n",
      "/opt/ml/input/final-project-level3-cv-10/result/imagecluster/merged_clusters/cluster_with_24/cluster_0\n",
      "/opt/ml/input/final-project-level3-cv-10/result/imagecluster/merged_clusters/cluster_with_6/cluster_1\n",
      "/opt/ml/input/final-project-level3-cv-10/result/imagecluster/merged_clusters/cluster_with_6/cluster_0\n",
      "/opt/ml/input/final-project-level3-cv-10/result/imagecluster/merged_clusters/cluster_with_12/cluster_1\n",
      "/opt/ml/input/final-project-level3-cv-10/result/imagecluster/merged_clusters/cluster_with_12/cluster_0\n"
     ]
    }
   ],
   "source": [
    "S = []\n",
    "for sup_dir in os.listdir(merged_cluster_dir):\n",
    "    num_clusters = 0\n",
    "    for cluster_dir in os.listdir(osp.join(merged_cluster_dir, sup_dir)):\n",
    "        cluster_dir = osp.join(merged_cluster_dir, sup_dir, cluster_dir)\n",
    "        num_clusters += 1"
   ]
  },
  {
   "cell_type": "code",
   "execution_count": null,
   "id": "6e0b7553-6ef8-4522-9a93-cb5b9214f115",
   "metadata": {},
   "outputs": [],
   "source": []
  }
 ],
 "metadata": {
  "kernelspec": {
   "display_name": "Python 3 (ipykernel)",
   "language": "python",
   "name": "python3"
  },
  "language_info": {
   "codemirror_mode": {
    "name": "ipython",
    "version": 3
   },
   "file_extension": ".py",
   "mimetype": "text/x-python",
   "name": "python",
   "nbconvert_exporter": "python",
   "pygments_lexer": "ipython3",
   "version": "3.8.5"
  }
 },
 "nbformat": 4,
 "nbformat_minor": 5
}
