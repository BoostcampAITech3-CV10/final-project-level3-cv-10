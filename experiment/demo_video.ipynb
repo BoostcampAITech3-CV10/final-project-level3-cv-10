{
 "cells": [
  {
   "cell_type": "code",
   "execution_count": 1,
   "id": "30687391-d32e-4100-bb6a-cd9c90d409eb",
   "metadata": {},
   "outputs": [],
   "source": [
    "import time\n",
    "\n",
    "from face_extractor.face_extractor import FaceExtractor\n",
    "from recognition.face_recog import FaceRecognizer"
   ]
  },
  {
   "cell_type": "markdown",
   "id": "6d3f5dcb-1d14-4dd2-afdc-2131d379e6b4",
   "metadata": {},
   "source": [
    "## Assign file path"
   ]
  },
  {
   "cell_type": "code",
   "execution_count": 2,
   "id": "be89272e-7e10-4dec-85c5-a621d111624e",
   "metadata": {},
   "outputs": [],
   "source": [
    "VIDEO_PATH = '/opt/ml/project/input_dir/video/testvideo_3_1.mp4'\n",
    "CLUSTER_IMG_SAVE_PATH = '/opt/ml/project/output_dir/cluster/testwav_3_1'"
   ]
  },
  {
   "cell_type": "markdown",
   "id": "4f648494-857b-41ac-9d5a-8bec2e110ccb",
   "metadata": {},
   "source": [
    "## Clustering"
   ]
  },
  {
   "cell_type": "code",
   "execution_count": 3,
   "id": "11eec544-3e5e-4553-b70f-0f7615f0be24",
   "metadata": {},
   "outputs": [
    {
     "name": "stdout",
     "output_type": "stream",
     "text": [
      "--------------------------------------------------------------------------------\n",
      "[Source Video File]: /opt/ml/project/input_dir/video/testvideo_3_1.mp4\n",
      "[Frame resolution H x W]: (1080.0 x 1920.0)\n",
      "[FPS]: 29.97\n",
      "[Total number of frames]: 32391\n",
      "[Total number of seconds]: 1080\n",
      "[Similiarty Threshold]: 0.57\n",
      "[Number of target faces for clustering]: 200\n",
      "--------------------------------------------------------------------------------\n"
     ]
    }
   ],
   "source": [
    "extractor = FaceExtractor(VIDEO_PATH,None,CLUSTER_IMG_SAVE_PATH,threshold=0.57,face_cnt=200)"
   ]
  },
  {
   "cell_type": "code",
   "execution_count": 4,
   "id": "c968410a-d913-4995-8139-97b76a265196",
   "metadata": {},
   "outputs": [
    {
     "name": "stdout",
     "output_type": "stream",
     "text": [
      ">>> Extracting fingerprints...\n",
      ">>> Clustering fingerprints...\n",
      ">>> Merging clusters...\n",
      ">>> Calculating average encoding and representative encoding...\n",
      "Clustering time:  44.83863139152527 seconds\n"
     ]
    }
   ],
   "source": [
    "start_time = time.time()\n",
    "\n",
    "fingerprints = extractor.extract_fingerprints()\n",
    "clusters = extractor.cluster_fingerprints(fingerprints)\n",
    "merged_clusters = extractor.merge_clusters(clusters,fingerprints)\n",
    "final_cluster_results = extractor.get_final_dict()\n",
    "\n",
    "end_time = time.time()\n",
    "print('Clustering time: ',end_time-start_time,'seconds')"
   ]
  },
  {
   "cell_type": "markdown",
   "id": "689f6297-b949-4ad9-b153-c5a21c418563",
   "metadata": {},
   "source": [
    "## Recognition"
   ]
  },
  {
   "cell_type": "code",
   "execution_count": 5,
   "id": "7a00d5fa-7abd-4a04-9169-34e8fb71829b",
   "metadata": {},
   "outputs": [],
   "source": [
    "target_people = ['person_0', 'person_1']\n",
    "target_encoding = [final_cluster_results[person]['repr_encoding'] for person in target_people] # repr_encoding/avg_encoding"
   ]
  },
  {
   "cell_type": "code",
   "execution_count": 6,
   "id": "2db17dab-bbdc-4d81-bea6-92583b75667c",
   "metadata": {},
   "outputs": [],
   "source": [
    "recognizer = FaceRecognizer(VIDEO_PATH, target_encoding=target_encoding)"
   ]
  },
  {
   "cell_type": "code",
   "execution_count": 7,
   "id": "98824100-36ef-4b63-b1d1-999d97bbb6db",
   "metadata": {},
   "outputs": [
    {
     "name": "stdout",
     "output_type": "stream",
     "text": [
      "Recognition time:  164.66879725456238 seconds\n"
     ]
    }
   ],
   "source": [
    "start_time = time.time()\n",
    "\n",
    "timelines, output_frames = recognizer.recognize_faces()\n",
    "people_timeline = recognizer.make_people_timeline(timelines, output_frames)\n",
    "\n",
    "end_time = time.time()\n",
    "print('Recognition time: ',end_time-start_time,'seconds')"
   ]
  }
 ],
 "metadata": {
  "kernelspec": {
   "display_name": "Python 3 (ipykernel)",
   "language": "python",
   "name": "python3"
  },
  "language_info": {
   "codemirror_mode": {
    "name": "ipython",
    "version": 3
   },
   "file_extension": ".py",
   "mimetype": "text/x-python",
   "name": "python",
   "nbconvert_exporter": "python",
   "pygments_lexer": "ipython3",
   "version": "3.8.5"
  }
 },
 "nbformat": 4,
 "nbformat_minor": 5
}
