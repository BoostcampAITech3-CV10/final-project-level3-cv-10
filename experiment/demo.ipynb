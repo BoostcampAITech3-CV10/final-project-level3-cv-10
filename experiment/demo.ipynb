{
 "cells": [
  {
   "cell_type": "code",
   "execution_count": 8,
   "id": "4c48adfe-37da-4838-b65f-2b190386f4d4",
   "metadata": {},
   "outputs": [],
   "source": [
    "from face_extractor.face_extractor import FaceExtractor\n",
    "import pandas as pd"
   ]
  },
  {
   "cell_type": "code",
   "execution_count": 2,
   "id": "d42e3d57-328f-43a7-ba94-7a1653a4e453",
   "metadata": {
    "tags": []
   },
   "outputs": [
    {
     "name": "stdout",
     "output_type": "stream",
     "text": [
      "--------------------------------------------------------------------------------\n",
      "[Source Video File]: /opt/ml/input/final-project-level3-cv-10/data/testvideo_3_0.mp4\n",
      "[Frame resolution H x W]: (720.0 x 1280.0)\n",
      "[FPS]: 29\n",
      "[Total number of frames]: 31935\n",
      "[Total number of seconds]: 1065\n",
      "Process every 3 secs (90 frames)\n",
      "face & cloth weights: [1, 0.7]\n",
      "sim_threshold: 0.65\n",
      "face_cnt: 350\n",
      "min_csize: 10\n",
      "use merging: True\n",
      "--------------------------------------------------------------------------------\n",
      "Using GPU\n"
     ]
    }
   ],
   "source": [
    "extractor = FaceExtractor(\n",
    "    '/opt/ml/input/final-project-level3-cv-10/data/testvideo_3_0.mp4',\n",
    "    '/opt/ml/input/final-project-level3-cv-10/data/',\n",
    "    '/opt/ml/input/final-project-level3-cv-10/result',\n",
    "    threshold=0.65,\n",
    "    face_cnt=350,\n",
    "    face_cloth_weights = [1, 0.7],\n",
    "    min_csize=10,\n",
    "    use_merging=True\n",
    ")"
   ]
  },
  {
   "cell_type": "code",
   "execution_count": 3,
   "id": "73b8a416-71aa-4753-a9ec-05a3bb89d466",
   "metadata": {
    "tags": []
   },
   "outputs": [
    {
     "name": "stdout",
     "output_type": "stream",
     "text": [
      ">>> Extracting fingerprints...\n",
      ">>> Clustering fingerprints...\n",
      ">>> Merging clusters...\n",
      ">>> Calculating average encoding and representative encoding...\n"
     ]
    }
   ],
   "source": [
    "final_clusters = extractor.cluster_video()"
   ]
  },
  {
   "cell_type": "code",
   "execution_count": 4,
   "id": "af67f4b5-b1b3-4142-b585-b3949e6b4008",
   "metadata": {},
   "outputs": [
    {
     "name": "stdout",
     "output_type": "stream",
     "text": [
      "-------------------------------- Result Summary --------------------------------\n",
      "[Face Extraction]: 29.142 seconds\n",
      "[Clustering Fingerprints]: 0.018 seconds\n",
      "[Merging Clusters]: 0.008 seconds\n",
      "[Average Encoding & Pick Representative]: 5.136 seconds\n",
      "[Total time]: 34.303 seconds\n",
      "Total number of detected persons: 6\n",
      "--------------------------------------------------------------------------------\n"
     ]
    }
   ],
   "source": [
    "extractor.summarize_results()"
   ]
  },
  {
   "cell_type": "code",
   "execution_count": 43,
   "id": "782f8589-1d56-4251-847b-5aa3cb229693",
   "metadata": {},
   "outputs": [],
   "source": [
    "import numpy as np\n",
    "imgs = [cluster['repr_img_array'] for cluster in extractor.final_dict.values()]"
   ]
  },
  {
   "cell_type": "code",
   "execution_count": 44,
   "id": "8ae8d020-518d-4038-8c4f-0cdfb40edf90",
   "metadata": {},
   "outputs": [],
   "source": [
    "img_width = [img.shape[1] for img in imgs]\n",
    "img_height = [img.shape[0] for img in imgs]\n",
    "max_width = max(img_width)\n",
    "total_height = sum(img_height)"
   ]
  },
  {
   "cell_type": "code",
   "execution_count": 45,
   "id": "fe6f9a48-cfad-467f-84c3-165135711c1e",
   "metadata": {},
   "outputs": [
    {
     "data": {
      "text/plain": [
       "(2709, 591, 3)"
      ]
     },
     "execution_count": 45,
     "metadata": {},
     "output_type": "execute_result"
    }
   ],
   "source": [
    "combined_img = np.ones((total_height, max_width, 3))\n",
    "combined_img.shape"
   ]
  },
  {
   "cell_type": "code",
   "execution_count": 46,
   "id": "f4e84a4b-db5d-4aa2-9528-fd83aec604fc",
   "metadata": {},
   "outputs": [],
   "source": [
    "cum_height = 0\n",
    "for img in imgs:\n",
    "    combined_img[cum_height: cum_height + img.shape[0], : img.shape[1]] = img\n",
    "    cum_height += img.shape[0]"
   ]
  },
  {
   "cell_type": "code",
   "execution_count": 48,
   "id": "0db5e5e5-5515-493f-aa77-d65bfedb74f6",
   "metadata": {},
   "outputs": [
    {
     "name": "stderr",
     "output_type": "stream",
     "text": [
      "Clipping input data to the valid range for imshow with RGB data ([0..1] for floats or [0..255] for integers).\n"
     ]
    },
    {
     "data": {
      "text/plain": [
       "<matplotlib.image.AxesImage at 0x7fa57602d9d0>"
      ]
     },
     "execution_count": 48,
     "metadata": {},
     "output_type": "execute_result"
    },
    {
     "data": {
      "image/png": "[encoded data removed]",
      "text/plain": [
       "<Figure size 432x288 with 1 Axes>"
      ]
     },
     "metadata": {
      "needs_background": "light"
     },
     "output_type": "display_data"
    }
   ],
   "source": [
    "import matplotlib.pyplot as plt\n",
    "\n",
    "plt.imshow(combined_img)"
   ]
  },
  {
   "cell_type": "raw",
   "id": "fcd81b2f-dee2-4404-a1d2-eb60d834a8ec",
   "metadata": {},
   "source": [
    "[final_dict]\n",
    "   - person_0\n",
    "      - repr_img_path\n",
    "      - repr_img_array\n",
    "      - repr_encoding\n",
    "      - avg_encoding\n",
    "   - person_1\n",
    "      - ..."
   ]
  },
  {
   "cell_type": "code",
   "execution_count": 6,
   "id": "8dba840e-b17d-4ae5-a35e-9bc27bb9a69b",
   "metadata": {},
   "outputs": [],
   "source": [
    "from clustering_metric import davies_bouldin_index"
   ]
  },
  {
   "cell_type": "code",
   "execution_count": 7,
   "id": "e0f72b4e-ee04-4726-ac9c-930607a1ef4c",
   "metadata": {},
   "outputs": [
    {
     "name": "stdout",
     "output_type": "stream",
     "text": [
      "/opt/ml/input/final-project-level3-cv-10/result/imagecluster/merged_clusters/cluster_with_11/cluster_0\n",
      "/opt/ml/input/final-project-level3-cv-10/result/imagecluster/merged_clusters/cluster_with_30/cluster_0\n",
      "/opt/ml/input/final-project-level3-cv-10/result/imagecluster/merged_clusters/cluster_with_18/cluster_0\n",
      "/opt/ml/input/final-project-level3-cv-10/result/imagecluster/merged_clusters/cluster_with_43/cluster_0\n",
      "/opt/ml/input/final-project-level3-cv-10/result/imagecluster/merged_clusters/cluster_with_26/cluster_0\n",
      "/opt/ml/input/final-project-level3-cv-10/result/imagecluster/merged_clusters/cluster_with_39/cluster_0\n",
      "1.1631421086674993 4\n",
      "1.2406470292405862 4\n",
      "1.0533451129925653 5\n",
      "1.1225233508828014 4\n",
      "1.2406470292405862 1\n",
      "1.1589777533543661 0\n"
     ]
    }
   ],
   "source": [
    "DBI = davies_bouldin_index(extractor.fingerprints)"
   ]
  },
  {
   "cell_type": "code",
   "execution_count": 9,
   "id": "6847e7d1-d4bf-4278-a8b8-54e83928b1d9",
   "metadata": {},
   "outputs": [
    {
     "data": {
      "text/plain": [
       "{'face_cloth_weights': [1, 0.7],\n",
       " 'sim_threshold': 0.65,\n",
       " 'face_cnt': 350,\n",
       " 'min_csize': 10,\n",
       " 'use_merging': True}"
      ]
     },
     "execution_count": 9,
     "metadata": {},
     "output_type": "execute_result"
    }
   ],
   "source": [
    "extractor.config"
   ]
  },
  {
   "cell_type": "code",
   "execution_count": null,
   "id": "68c8bafe-954b-48ba-8af5-c3e45fde6f2d",
   "metadata": {},
   "outputs": [],
   "source": [
    "col_names = ['face_cloth_weights', 'sim_threshold', 'face_cnt', 'min_csize', 'use_merging']\n",
    "df = pd.DataFrame(columns=col_names)\n",
    "\n"
   ]
  }
 ],
 "metadata": {
  "kernelspec": {
   "display_name": "Python 3 (ipykernel)",
   "language": "python",
   "name": "python3"
  },
  "language_info": {
   "codemirror_mode": {
    "name": "ipython",
    "version": 3
   },
   "file_extension": ".py",
   "mimetype": "text/x-python",
   "name": "python",
   "nbconvert_exporter": "python",
   "pygments_lexer": "ipython3",
   "version": "3.8.5"
  }
 },
 "nbformat": 4,
 "nbformat_minor": 5
}
