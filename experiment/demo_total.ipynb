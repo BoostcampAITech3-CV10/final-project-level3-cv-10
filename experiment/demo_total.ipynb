{
 "cells": [
  {
   "cell_type": "code",
   "execution_count": 17,
   "id": "07976158-e022-4b9a-81d7-d673fbf0a9fa",
   "metadata": {},
   "outputs": [],
   "source": [
    "import os.path as osp\n",
    "import os\n",
    "import sys\n",
    "sys.path.append('./laughter')\n",
    "from laughter_detection import LaughterDetection\n",
    "from face_extractor.face_extractor import FaceExtractor\n",
    "from recognition.face_recog import FaceRecognizer\n",
    "from final_shorts.final_timeline import make_final_timeline\n",
    "from moviepy.editor import *"
   ]
  },
  {
   "cell_type": "markdown",
   "id": "bf9821a5-43bd-4fd9-8ae0-9c492a88ce19",
   "metadata": {},
   "source": [
    "## assign file path"
   ]
  },
  {
   "cell_type": "code",
   "execution_count": 19,
   "id": "940e5c42-55f5-4dcc-9c43-5205759316e0",
   "metadata": {},
   "outputs": [],
   "source": [
    "VIDEO_PATH = '/opt/ml/project/input_dir/video/testvideo_3_1.mp4'\n",
    "WAV_PATH = '/opt/ml/project/input_dir/wav/testwav_3_1'\n",
    "LAUGHTER_MODEL_PATH = '/opt/ml/project/model/laughter'\n",
    "CLUSTER_IMG_SAVE_PATH = '/opt/ml/project/output_dir/cluster/testwav_3_1'\n",
    "SHORTS_SAVE_PATH = '/opt/ml/project/output_dir/shorts/'\n",
    "SHORTS_NAME = 'RadioStar_EP00_'"
   ]
  },
  {
   "cell_type": "markdown",
   "id": "25eb4614-db9f-4413-83a9-a354d1da3a00",
   "metadata": {},
   "source": [
    "## laughter detection"
   ]
  },
  {
   "cell_type": "code",
   "execution_count": 3,
   "id": "30b104bb-440b-48ef-a068-00fad383207f",
   "metadata": {},
   "outputs": [],
   "source": [
    "shorts_timeline = LaughterDetection(video_path=VIDEO_PATH, wav_path=WAV_PATH, ml_path=LAUGHTER_MODEL_PATH)"
   ]
  },
  {
   "cell_type": "markdown",
   "id": "ecfaa324-ebab-4e2c-8baf-c33f48d7d635",
   "metadata": {},
   "source": [
    "## clustering"
   ]
  },
  {
   "cell_type": "code",
   "execution_count": 4,
   "id": "76d72013-339e-423f-83e7-0e897f3587c1",
   "metadata": {},
   "outputs": [
    {
     "name": "stdout",
     "output_type": "stream",
     "text": [
      "--------------------------------------------------------------------------------\n",
      "[Source Video File]: /opt/ml/project/input_dir/video/testvideo_3_1.mp4\n",
      "[Frame resolution H x W]: (1080.0 x 1920.0)\n",
      "[FPS]: 29.97\n",
      "[Total number of frames]: 32391\n",
      "[Total number of seconds]: 1080\n",
      "[Similiarty Threshold]: 0.57\n",
      "[Number of target faces for clustering]: 200\n",
      "--------------------------------------------------------------------------------\n",
      ">>> Extracting fingerprints...\n",
      ">>> Clustering fingerprints...\n",
      ">>> Merging clusters...\n",
      ">>> Calculating average encoding and representative encoding...\n"
     ]
    }
   ],
   "source": [
    "extractor = FaceExtractor(VIDEO_PATH,None,CLUSTER_IMG_SAVE_PATH,threshold=0.57,face_cnt=200)\n",
    "fingerprints = extractor.extract_fingerprints()\n",
    "clusters = extractor.cluster_fingerprints(fingerprints)\n",
    "merged_clusters = extractor.merge_clusters(clusters,fingerprints)\n",
    "final_cluster_results = extractor.get_final_dict()"
   ]
  },
  {
   "cell_type": "markdown",
   "id": "ee2802aa-4079-492d-9bdb-70e4c6a6c989",
   "metadata": {},
   "source": [
    "## recognition"
   ]
  },
  {
   "cell_type": "code",
   "execution_count": 5,
   "id": "a37ad6be-b433-4bd4-89c2-e50dfff09919",
   "metadata": {},
   "outputs": [],
   "source": [
    "target_people = ['person_0', 'person_1']\n",
    "target_encoding = [final_cluster_results[person]['repr_encoding'] for person in target_people]\n",
    "recognizer = FaceRecognizer(VIDEO_PATH, target_encoding=target_encoding)\n",
    "timelines, output_frames = recognizer.recognize_faces()\n",
    "people_timeline = recognizer.make_people_timeline(timelines, output_frames)"
   ]
  },
  {
   "cell_type": "markdown",
   "id": "84aecac7-20ed-4dbf-b6aa-0b0e7fbb82f1",
   "metadata": {},
   "source": [
    "## make final timeline"
   ]
  },
  {
   "cell_type": "code",
   "execution_count": 10,
   "id": "d632ccc7-40c9-45fa-a98a-ff80762e0cd8",
   "metadata": {},
   "outputs": [],
   "source": [
    "shorts = []\n",
    "for target_person_timeline in people_timeline:\n",
    "    final_shorts_timeline = make_final_timeline(shorts_timeline,target_person_timeline)\n",
    "    shorts.append(final_shorts_timeline)"
   ]
  },
  {
   "cell_type": "code",
   "execution_count": 11,
   "id": "365631e0-4406-47dc-802e-d8b8e3519ec9",
   "metadata": {},
   "outputs": [
    {
     "data": {
      "text/plain": [
       "[([], 0), ([(173.62, 208.74, 1.78, 0.441)], 35.12)]"
      ]
     },
     "execution_count": 11,
     "metadata": {},
     "output_type": "execute_result"
    }
   ],
   "source": [
    "shorts"
   ]
  },
  {
   "cell_type": "markdown",
   "id": "776f9b90-a146-4ce8-b053-b681a9720a2b",
   "metadata": {},
   "source": [
    "## save shorts"
   ]
  },
  {
   "cell_type": "code",
   "execution_count": 22,
   "id": "deb05140-3f20-494a-97f8-a55fce492677",
   "metadata": {},
   "outputs": [
    {
     "name": "stderr",
     "output_type": "stream",
     "text": [
      "chunk:   0%|          | 2/775 [00:00<00:44, 17.37it/s, now=None]"
     ]
    },
    {
     "name": "stdout",
     "output_type": "stream",
     "text": [
      "Moviepy - Building video /opt/ml/project/output_dir/shorts/RadioStar_EP00_0.mp4.\n",
      "MoviePy - Writing audio in RadioStar_EP00_0TEMP_MPY_wvf_snd.mp3\n"
     ]
    },
    {
     "name": "stderr",
     "output_type": "stream",
     "text": [
      "t:   0%|          | 0/1053 [00:00<?, ?it/s, now=None]             "
     ]
    },
    {
     "name": "stdout",
     "output_type": "stream",
     "text": [
      "MoviePy - Done.\n",
      "Moviepy - Writing video /opt/ml/project/output_dir/shorts/RadioStar_EP00_0.mp4\n",
      "\n"
     ]
    },
    {
     "name": "stderr",
     "output_type": "stream",
     "text": [
      "                                                                \r"
     ]
    },
    {
     "name": "stdout",
     "output_type": "stream",
     "text": [
      "Moviepy - Done !\n",
      "Moviepy - video ready /opt/ml/project/output_dir/shorts/RadioStar_EP00_0.mp4\n"
     ]
    }
   ],
   "source": [
    "if not osp.isdir(SHORTS_SAVE_PATH):\n",
    "    os.makedirs(SHORTS_SAVE_PATH)\n",
    "\n",
    "for short in shorts:\n",
    "    if short[1] > 0:\n",
    "        for ind,(start,end,_,_) in enumerate(short[0]):\n",
    "            SHORTS_PATH = SHORTS_SAVE_PATH + SHORTS_NAME + str(ind) + '.mp4'\n",
    "            video = VideoFileClip(VIDEO_PATH).subclip(start,end).fx(vfx.fadein,1).fx(vfx.fadeout,1)\n",
    "            video.write_videofile(SHORTS_PATH)"
   ]
  }
 ],
 "metadata": {
  "kernelspec": {
   "display_name": "Python 3 (ipykernel)",
   "language": "python",
   "name": "python3"
  },
  "language_info": {
   "codemirror_mode": {
    "name": "ipython",
    "version": 3
   },
   "file_extension": ".py",
   "mimetype": "text/x-python",
   "name": "python",
   "nbconvert_exporter": "python",
   "pygments_lexer": "ipython3",
   "version": "3.8.5"
  }
 },
 "nbformat": 4,
 "nbformat_minor": 5
}
