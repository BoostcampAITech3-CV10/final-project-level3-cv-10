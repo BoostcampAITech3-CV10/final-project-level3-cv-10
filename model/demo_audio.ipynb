{
 "cells": [
  {
   "cell_type": "code",
   "execution_count": 1,
   "id": "9f9f0272-1f01-46b9-b20b-6bcc257758d1",
   "metadata": {},
   "outputs": [],
   "source": [
    "import time\n",
    "import sys\n",
    "sys.path.append('./laughter')\n",
    "from laughter_detection import LaughterDetection"
   ]
  },
  {
   "cell_type": "markdown",
   "id": "1f54fb91-8b8c-48f4-ba17-ea0707a71834",
   "metadata": {},
   "source": [
    "## Assign file path"
   ]
  },
  {
   "cell_type": "code",
   "execution_count": 2,
   "id": "e41ff9d1-bde9-4594-89da-4a352bb2902c",
   "metadata": {},
   "outputs": [],
   "source": [
    "VIDEO_PATH = '/opt/ml/project/input_dir/video/testvideo_3_1.mp4'\n",
    "WAV_PATH = '/opt/ml/project/input_dir/wav/testwav_3_1'\n",
    "LAUGHTER_MODEL_PATH = '/opt/ml/project/model/laughter'"
   ]
  },
  {
   "cell_type": "markdown",
   "id": "34072286-99cc-481a-8069-a5df2804517d",
   "metadata": {},
   "source": [
    "## Laughter detection & Calculate interests"
   ]
  },
  {
   "cell_type": "code",
   "execution_count": 3,
   "id": "08aade4d-6af8-4ba6-8ece-794901ba4e5b",
   "metadata": {},
   "outputs": [
    {
     "name": "stdout",
     "output_type": "stream",
     "text": [
      "Laughter detection time:  75.4843213558197 seconds\n"
     ]
    }
   ],
   "source": [
    "start_time = time.time()\n",
    "\n",
    "final_shorts_timeline = LaughterDetection(video_path=VIDEO_PATH, wav_path=WAV_PATH, ml_path=LAUGHTER_MODEL_PATH)\n",
    "\n",
    "end_time = time.time()\n",
    "print('Laughter detection time: ',end_time-start_time,'seconds')"
   ]
  },
  {
   "cell_type": "code",
   "execution_count": 4,
   "id": "530191b4-d2be-4177-b971-94afc986dff7",
   "metadata": {},
   "outputs": [
    {
     "data": {
      "text/plain": [
       "[(3.4, 67.27, 0.0),\n",
       " (173.62, 208.74, 1.78),\n",
       " (414.78, 449.69, 1.81),\n",
       " (690.18, 724.12, 1.01),\n",
       " (856.86, 894.68, 0.72),\n",
       " (895.74, 962.38, 0.61),\n",
       " (1024.39, 1062.35, 0.53)]"
      ]
     },
     "execution_count": 4,
     "metadata": {},
     "output_type": "execute_result"
    }
   ],
   "source": [
    "final_shorts_timeline"
   ]
  }
 ],
 "metadata": {
  "kernelspec": {
   "display_name": "Python 3 (ipykernel)",
   "language": "python",
   "name": "python3"
  },
  "language_info": {
   "codemirror_mode": {
    "name": "ipython",
    "version": 3
   },
   "file_extension": ".py",
   "mimetype": "text/x-python",
   "name": "python",
   "nbconvert_exporter": "python",
   "pygments_lexer": "ipython3",
   "version": "3.8.5"
  }
 },
 "nbformat": 4,
 "nbformat_minor": 5
}
