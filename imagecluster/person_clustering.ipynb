{
 "cells": [
  {
   "cell_type": "markdown",
   "metadata": {},
   "source": [
    "code: https://github.com/ritts97/Unsupervised-Face-Clustering"
   ]
  },
  {
   "cell_type": "markdown",
   "metadata": {},
   "source": [
    "## Setup"
   ]
  },
  {
   "cell_type": "code",
   "execution_count": 1,
   "metadata": {},
   "outputs": [
    {
     "name": "stderr",
     "output_type": "stream",
     "text": [
      "/opt/conda/lib/python3.8/site-packages/tqdm/auto.py:22: TqdmWarning: IProgress not found. Please update jupyter and ipywidgets. See https://ipywidgets.readthedocs.io/en/stable/user_install.html\n",
      "  from .autonotebook import tqdm as notebook_tqdm\n",
      "2022-05-31 04:03:41.438659: W tensorflow/stream_executor/platform/default/dso_loader.cc:64] Could not load dynamic library 'libcudart.so.11.0'; dlerror: libcudart.so.11.0: cannot open shared object file: No such file or directory; LD_LIBRARY_PATH: /usr/local/nvidia/lib:/usr/local/nvidia/lib64\n",
      "2022-05-31 04:03:41.438694: I tensorflow/stream_executor/cuda/cudart_stub.cc:29] Ignore above cudart dlerror if you do not have a GPU set up on your machine.\n"
     ]
    },
    {
     "name": "stdout",
     "output_type": "stream",
     "text": [
      "False\n",
      "4.1.2\n"
     ]
    }
   ],
   "source": [
    "import sys\n",
    "import os\n",
    "import dlib\n",
    "import glob\n",
    "import time\n",
    "\n",
    "import cv2\n",
    "import os\n",
    "\n",
    "import matplotlib.pyplot as plt\n",
    "\n",
    "from face_classifier import FaceClassifier\n",
    "\n",
    "import random\n",
    "import torch\n",
    "import numpy as np\n",
    "\n",
    "import calc\n",
    "import icio\n",
    "import postproc\n",
    "\n",
    "from person_db import Person\n",
    "from person_db import Face\n",
    "from person_db import PersonDB\n",
    "\n",
    "print(dlib.DLIB_USE_CUDA)\n",
    "print(cv2.__version__)"
   ]
  },
  {
   "cell_type": "code",
   "execution_count": null,
   "metadata": {},
   "outputs": [],
   "source": [
    "def seed_everything(seed: int = 42):\n",
    "    random.seed(seed)\n",
    "    np.random.seed(seed)\n",
    "    os.environ[\"PYTHONHASHSEED\"] = str(seed)\n",
    "    torch.manual_seed(seed)\n",
    "    torch.cuda.manual_seed(seed)  # type: ignore\n",
    "    torch.backends.cudnn.deterministic = True  # type: ignore\n",
    "    torch.backends.cudnn.benchmark = False  # type: ignore\n",
    "\n",
    "seed_everything(79)"
   ]
  },
  {
   "cell_type": "code",
   "execution_count": null,
   "metadata": {},
   "outputs": [],
   "source": [
    "import face_recognition\n",
    "\n",
    "def check_use_gpu(TARGET_IMG_PATH):\n",
    "    image = face_recognition.load_image_file(TARGET_IMG_PATH)\n",
    "    face_locations = face_recognition.face_locations(image,model='cnn')\n",
    "    if len(face_locations) > 0:\n",
    "        print('Using GPU')\n",
    "    else:\n",
    "        print('***Not using GPU***')\n",
    "\n",
    "TARGET_IMG_PATH = \"/opt/ml/project/input_dir/face/dongmin.png\"\n",
    "check_use_gpu(TARGET_IMG_PATH)"
   ]
  },
  {
   "cell_type": "markdown",
   "metadata": {},
   "source": [
    "## Extract frame from video and save as images"
   ]
  },
  {
   "cell_type": "code",
   "execution_count": 3,
   "metadata": {},
   "outputs": [],
   "source": [
    "video_paths = {\n",
    "    0: \"/opt/ml/input/final-project-level3-cv-10/data/sample1_0-300s.mp4\",\n",
    "}"
   ]
  },
  {
   "cell_type": "code",
   "execution_count": 4,
   "metadata": {},
   "outputs": [],
   "source": [
    "file_num = 0\n",
    "\n",
    "filepath = video_paths[file_num]\n",
    "video = cv2.VideoCapture(filepath)\n",
    "\n",
    "assert video.isOpened(), f\"Could not Open : {filepath}\""
   ]
  },
  {
   "cell_type": "code",
   "execution_count": 5,
   "metadata": {},
   "outputs": [
    {
     "name": "stdout",
     "output_type": "stream",
     "text": [
      "length : 7200\n",
      "width : 1280\n",
      "height : 720\n",
      "fps : 24.0\n"
     ]
    }
   ],
   "source": [
    "# 불러온 비디오 파일의 정보 출력\n",
    "length = int(video.get(cv2.CAP_PROP_FRAME_COUNT))\n",
    "width = int(video.get(cv2.CAP_PROP_FRAME_WIDTH))\n",
    "height = int(video.get(cv2.CAP_PROP_FRAME_HEIGHT))\n",
    "fps = video.get(cv2.CAP_PROP_FPS)\n",
    "\n",
    "print(\"length :\", length)\n",
    "print(\"width :\", width)\n",
    "print(\"height :\", height)\n",
    "print(\"fps :\", fps)"
   ]
  },
  {
   "cell_type": "code",
   "execution_count": 6,
   "metadata": {},
   "outputs": [],
   "source": [
    "# 변수 설정\n",
    "frame_batch_size = 32\n",
    "capture_interval = 3 * int(round(fps)) # n초 간격 프레임 캡쳐\n",
    "stop = 300 # 0 초과의 정수 지정 시 n 초 까지만 영상 실행\n",
    "skip = 0 # 초반 n 초 skip\n",
    "face_cnt = 150 # 몇 장의 인물 사진을 사용할 지\n",
    "capture_cnt = 60\n",
    "threshold = 0.36 # 같은 인물로 판단할 threshold -> 낮을수록 같은 인물로 판단하지 않음\n",
    "ratio = 1.0 # resizing ratio인데, 건드리지 않는게 좋을 듯"
   ]
  },
  {
   "cell_type": "code",
   "execution_count": 7,
   "metadata": {},
   "outputs": [],
   "source": [
    "result_dir = filepath[:-4] + '_test2'\n",
    "# pdb = PersonDB()\n",
    "# pdb.load_db(result_dir)\n",
    "# pdb.print_persons()"
   ]
  },
  {
   "cell_type": "code",
   "execution_count": 8,
   "metadata": {},
   "outputs": [],
   "source": [
    "try:\n",
    "    if not os.path.exists(result_dir):\n",
    "        os.makedirs(result_dir)\n",
    "except OSError:\n",
    "    print('Error: Creaing directory. ' + result_dir)"
   ]
  },
  {
   "cell_type": "markdown",
   "metadata": {},
   "source": [
    "**dnn_superres 사용**\n",
    "```\n",
    "pip uninstall opencv-python\n",
    "pip uninstall opencv-contrib-python\n",
    "pip3 install opencv-contrib-python\n",
    "```\n",
    "- 코드 및 성능비교표: https://learnopencv.com/super-resolution-in-opencv/ \n",
    "- super resolution 모델들 & 다운로드 링크: https://github.com/opencv/opencv_contrib/blob/master/modules/dnn_superres/README.md"
   ]
  },
  {
   "cell_type": "code",
   "execution_count": 9,
   "metadata": {},
   "outputs": [
    {
     "ename": "NameError",
     "evalue": "name 'FaceClassifier' is not defined",
     "output_type": "error",
     "traceback": [
      "\u001b[0;31m---------------------------------------------------------------------------\u001b[0m",
      "\u001b[0;31mNameError\u001b[0m                                 Traceback (most recent call last)",
      "Input \u001b[0;32mIn [9]\u001b[0m, in \u001b[0;36m<cell line: 4>\u001b[0;34m()\u001b[0m\n\u001b[1;32m      1\u001b[0m video \u001b[38;5;241m=\u001b[39m cv2\u001b[38;5;241m.\u001b[39mVideoCapture(filepath) \n\u001b[1;32m      3\u001b[0m \u001b[38;5;66;03m# FaceClssifier 인스턴스 생성\u001b[39;00m\n\u001b[0;32m----> 4\u001b[0m fc \u001b[38;5;241m=\u001b[39m \u001b[43mFaceClassifier\u001b[49m(threshold, ratio, result_dir)\n\u001b[1;32m      6\u001b[0m fingerprints \u001b[38;5;241m=\u001b[39m \u001b[38;5;28mdict\u001b[39m()\n\u001b[1;32m      8\u001b[0m frames \u001b[38;5;241m=\u001b[39m []\n",
      "\u001b[0;31mNameError\u001b[0m: name 'FaceClassifier' is not defined"
     ]
    }
   ],
   "source": [
    "video = cv2.VideoCapture(filepath) \n",
    "\n",
    "# FaceClssifier 인스턴스 생성\n",
    "fc = FaceClassifier(threshold, ratio, result_dir)\n",
    "\n",
    "fingerprints = dict()\n",
    "\n",
    "frames = []\n",
    "frame_count = 0\n",
    "cnt = 0\n",
    "\n",
    "running = True\n",
    "\n",
    "total_start = time.time()\n",
    "while running:\n",
    "    ret, frame = video.read()\n",
    "\n",
    "    if frame is None:\n",
    "        break\n",
    "\n",
    "    seconds = int(round(frame_count / fps, 3))\n",
    "    # print(f\"Running in {seconds} sec in video...\")\n",
    "    if seconds > stop > 0:\n",
    "        break\n",
    "    if seconds < skip:\n",
    "        continue\n",
    "    if frame_count % capture_interval == 0:\n",
    "        # resize\n",
    "        if frame.shape[0] > 1000:\n",
    "            frame = cv2.resize(frame, None, fx=0.6, fy=0.6)\n",
    "        frames.append(frame)\n",
    "        \n",
    "    if len(frames) == frame_batch_size:\n",
    "        # 얼굴 디텍션 -> 얼굴 인코딩(frame, face_boxes) -> 옷 디텍션 -> 옷 인코딩(read_frames 코드 + _frame_worker 코드 + get_model 코드 + fingerprint 코드) -> 이미지 저장\n",
    "        # 반환: 상체 이미지(파일명): [얼굴 인코딩 | 옷 인코딩] (fingerprint)\n",
    "        frame_fingerprints = fc.detect_faces(frames,frame_batch_size)\n",
    "        if frame_fingerprints:\n",
    "            fingerprints.update(frame_fingerprints)\n",
    "            print('Face images: ', len(fingerprints))\n",
    "            cnt += 1\n",
    "            print('frame_cnt: ', cnt)\n",
    "            print()\n",
    "        \n",
    "        frames = []\n",
    "        \n",
    "    if len(fingerprints) >= 150:\n",
    "        break\n",
    "    \n",
    "    frame_count += 1\n",
    "\n",
    "\n",
    "\n",
    "# restore SIGINT (^C) handler\n",
    "running = False\n",
    "video.release()\n",
    "print()\n",
    "\n",
    "# pdb.save_db(result_dir)\n",
    "# pdb.print_persons()\n",
    "\n",
    "total_end = time.time()\n",
    "print('Inference time: ',total_end-total_start)\n",
    "print(\"Captured frames : \", frame_count)"
   ]
  },
  {
   "cell_type": "code",
   "execution_count": null,
   "metadata": {},
   "outputs": [],
   "source": []
  },
  {
   "cell_type": "code",
   "execution_count": 11,
   "metadata": {},
   "outputs": [],
   "source": [
    "filepath = video_paths[file_num]\n",
    "result_dir = filepath[:-4] + '_test2'"
   ]
  },
  {
   "cell_type": "code",
   "execution_count": 29,
   "metadata": {},
   "outputs": [
    {
     "name": "stdout",
     "output_type": "stream",
     "text": [
      "#images : #clusters\n",
      "3 : 1\n",
      "4 : 1\n",
      "19 : 1\n",
      "117 : 1\n",
      "#images in clusters total:  143\n",
      "cluster dir: /opt/ml/project/input_dir/video/testvideo_3_1_test2/imagecluster/clusters\n",
      "/opt/ml/project/input_dir/video/testvideo_3_1_test2/20220530_111317.069-1.png/opt/ml/project/input_dir/video/testvideo_3_1_test2/20220530_111316.991-0.png/opt/ml/project/input_dir/video/testvideo_3_1_test2/20220530_111305.672-1.png/opt/ml/project/input_dir/video/testvideo_3_1_test2/20220530_111334.391-1.png/opt/ml/project/input_dir/video/testvideo_3_1_test2/20220530_111333.956-1.png\n",
      "/opt/ml/project/input_dir/video/testvideo_3_1_test2/20220530_111305.811-2.png\n",
      "\n",
      "\n",
      "/opt/ml/project/input_dir/video/testvideo_3_1_test2/20220530_111322.626-1.png/opt/ml/project/input_dir/video/testvideo_3_1_test2/20220530_111328.562-2.png\n",
      "\n",
      "/opt/ml/project/input_dir/video/testvideo_3_1_test2/20220530_111310.676-1.png\n",
      "/opt/ml/project/input_dir/video/testvideo_3_1_test2/20220530_111328.029-1.png\n",
      "/opt/ml/project/input_dir/video/testvideo_3_1_test2/20220530_111328.029-2.png\n",
      "/opt/ml/project/input_dir/video/testvideo_3_1_test2/20220530_111310.722-1.png\n",
      "/opt/ml/project/input_dir/video/testvideo_3_1_test2/20220530_111317.138-1.png\n",
      "\n",
      "\n",
      "/opt/ml/project/input_dir/video/testvideo_3_1_test2/20220530_111334.098-1.png/opt/ml/project/input_dir/video/testvideo_3_1_test2/20220530_111328.232-0.png\n",
      "/opt/ml/project/input_dir/video/testvideo_3_1_test2/20220530_111328.562-0.png\n",
      "/opt/ml/project/input_dir/video/testvideo_3_1_test2/20220530_111305.280-3.png\n",
      "/opt/ml/project/input_dir/video/testvideo_3_1_test2/20220530_111322.626-0.png\n",
      "/opt/ml/project/input_dir/video/testvideo_3_1_test2/20220530_111322.302-3.png\n",
      "/opt/ml/project/input_dir/video/testvideo_3_1_test2/20220530_111316.938-1.png\n",
      "\n",
      "/opt/ml/project/input_dir/video/testvideo_3_1_test2/20220530_111316.991-1.png/opt/ml/project/input_dir/video/testvideo_3_1_test2/20220530_111322.302-2.png/opt/ml/project/input_dir/video/testvideo_3_1_test2/20220530_111316.794-2.png\n",
      "\n",
      "/opt/ml/project/input_dir/video/testvideo_3_1_test2/20220530_111328.486-0.png/opt/ml/project/input_dir/video/testvideo_3_1_test2/20220530_111316.794-0.png/opt/ml/project/input_dir/video/testvideo_3_1_test2/20220530_111305.549-3.png\n",
      "\n",
      "/opt/ml/project/input_dir/video/testvideo_3_1_test2/20220530_111333.837-0.png\n",
      "/opt/ml/project/input_dir/video/testvideo_3_1_test2/20220530_111334.177-0.png/opt/ml/project/input_dir/video/testvideo_3_1_test2/20220530_111316.853-1.png\n",
      "\n",
      "/opt/ml/project/input_dir/video/testvideo_3_1_test2/20220530_111334.481-1.png/opt/ml/project/input_dir/video/testvideo_3_1_test2/20220530_111305.280-2.png\n",
      "\n",
      "\n",
      "\n",
      "/opt/ml/project/input_dir/video/testvideo_3_1_test2/20220530_111328.146-2.png\n",
      "/opt/ml/project/input_dir/video/testvideo_3_1_test2/20220530_111305.549-0.png\n",
      "/opt/ml/project/input_dir/video/testvideo_3_1_test2/20220530_111310.676-2.png\n",
      "/opt/ml/project/input_dir/video/testvideo_3_1_test2/20220530_111316.510-0.png/opt/ml/project/input_dir/video/testvideo_3_1_test2/20220530_111334.391-0.png/opt/ml/project/input_dir/video/testvideo_3_1_test2/20220530_111305.466-0.png\n",
      "\n",
      "/opt/ml/project/input_dir/video/testvideo_3_1_test2/20220530_111310.722-0.png\n",
      "\n",
      "/opt/ml/project/input_dir/video/testvideo_3_1_test2/20220530_111305.466-1.png\n",
      "/opt/ml/project/input_dir/video/testvideo_3_1_test2/20220530_111316.794-3.png\n",
      "/opt/ml/project/input_dir/video/testvideo_3_1_test2/20220530_111322.542-1.png\n",
      "/opt/ml/project/input_dir/video/testvideo_3_1_test2/20220530_111334.098-0.png/opt/ml/project/input_dir/video/testvideo_3_1_test2/20220530_111328.292-1.png\n",
      "\n",
      "/opt/ml/project/input_dir/video/testvideo_3_1_test2/20220530_111316.510-3.png/opt/ml/project/input_dir/video/testvideo_3_1_test2/20220530_111310.998-0.png\n",
      "\n",
      "/opt/ml/project/input_dir/video/testvideo_3_1_test2/20220530_111322.433-0.png\n",
      "/opt/ml/project/input_dir/video/testvideo_3_1_test2/20220530_111305.672-0.png\n",
      "/opt/ml/project/input_dir/video/testvideo_3_1_test2/20220530_111328.434-0.png/opt/ml/project/input_dir/video/testvideo_3_1_test2/20220530_111328.029-3.png\n",
      "/opt/ml/project/input_dir/video/testvideo_3_1_test2/20220530_111316.641-0.png/opt/ml/project/input_dir/video/testvideo_3_1_test2/20220530_111316.938-2.png\n",
      "\n",
      "/opt/ml/project/input_dir/video/testvideo_3_1_test2/20220530_111310.945-0.png\n",
      "\n",
      "/opt/ml/project/input_dir/video/testvideo_3_1_test2/20220530_111317.220-3.png\n",
      "/opt/ml/project/input_dir/video/testvideo_3_1_test2/20220530_111316.570-0.png\n",
      "/opt/ml/project/input_dir/video/testvideo_3_1_test2/20220530_111305.871-0.png\n",
      "/opt/ml/project/input_dir/video/testvideo_3_1_test2/20220530_111316.641-1.png/opt/ml/project/input_dir/video/testvideo_3_1_test2/20220530_111310.616-1.png\n",
      "\n",
      "/opt/ml/project/input_dir/video/testvideo_3_1_test2/20220530_111305.401-1.png\n",
      "/opt/ml/project/input_dir/video/testvideo_3_1_test2/20220530_111322.302-1.png\n",
      "/opt/ml/project/input_dir/video/testvideo_3_1_test2/20220530_111334.334-2.png\n",
      "\n",
      "/opt/ml/project/input_dir/video/testvideo_3_1_test2/20220530_111305.549-1.png/opt/ml/project/input_dir/video/testvideo_3_1_test2/20220530_111316.853-0.png/opt/ml/project/input_dir/video/testvideo_3_1_test2/20220530_111316.718-0.png\n",
      "\n",
      "/opt/ml/project/input_dir/video/testvideo_3_1_test2/20220530_111322.358-1.png\n",
      "\n",
      "/opt/ml/project/input_dir/video/testvideo_3_1_test2/20220530_111322.699-0.png/opt/ml/project/input_dir/video/testvideo_3_1_test2/20220530_111334.616-3.png/opt/ml/project/input_dir/video/testvideo_3_1_test2/20220530_111328.434-2.png\n",
      "\n",
      "/opt/ml/project/input_dir/video/testvideo_3_1_test2/20220530_111333.956-3.png/opt/ml/project/input_dir/video/testvideo_3_1_test2/20220530_111305.401-0.png/opt/ml/project/input_dir/video/testvideo_3_1_test2/20220530_111305.811-0.png/opt/ml/project/input_dir/video/testvideo_3_1_test2/20220530_111310.616-0.png\n",
      "/opt/ml/project/input_dir/video/testvideo_3_1_test2/20220530_111310.945-2.png\n",
      "\n",
      "\n",
      "/opt/ml/project/input_dir/video/testvideo_3_1_test2/20220530_111317.138-0.png/opt/ml/project/input_dir/video/testvideo_3_1_test2/20220530_111333.956-0.png/opt/ml/project/input_dir/video/testvideo_3_1_test2/20220530_111316.510-1.png\n",
      "\n",
      "\n",
      "\n",
      "/opt/ml/project/input_dir/video/testvideo_3_1_test2/20220530_111328.353-0.png\n",
      "/opt/ml/project/input_dir/video/testvideo_3_1_test2/20220530_111322.542-3.png\n",
      "/opt/ml/project/input_dir/video/testvideo_3_1_test2/20220530_111310.945-3.png\n",
      "/opt/ml/project/input_dir/video/testvideo_3_1_test2/20220530_111305.729-1.png\n",
      "/opt/ml/project/input_dir/video/testvideo_3_1_test2/20220530_111305.811-1.png\n",
      "/opt/ml/project/input_dir/video/testvideo_3_1_test2/20220530_111334.616-0.png/opt/ml/project/input_dir/video/testvideo_3_1_test2/20220530_111333.882-1.png\n",
      "/opt/ml/project/input_dir/video/testvideo_3_1_test2/20220530_111334.616-1.png/opt/ml/project/input_dir/video/testvideo_3_1_test2/20220530_111322.626-2.png\n",
      "\n",
      "\n",
      "/opt/ml/project/input_dir/video/testvideo_3_1_test2/20220530_111317.069-0.png/opt/ml/project/input_dir/video/testvideo_3_1_test2/20220530_111328.232-1.png\n",
      "/opt/ml/project/input_dir/video/testvideo_3_1_test2/20220530_111322.302-0.png/opt/ml/project/input_dir/video/testvideo_3_1_test2/20220530_111334.616-2.png/opt/ml/project/input_dir/video/testvideo_3_1_test2/20220530_111317.220-2.png\n",
      "\n",
      "/opt/ml/project/input_dir/video/testvideo_3_1_test2/20220530_111334.177-1.png\n",
      "/opt/ml/project/input_dir/video/testvideo_3_1_test2/20220530_111310.799-1.png\n",
      "\n",
      "\n",
      "/opt/ml/project/input_dir/video/testvideo_3_1_test2/20220530_111334.016-1.png\n",
      "/opt/ml/project/input_dir/video/testvideo_3_1_test2/20220530_111305.280-1.png\n",
      "\n",
      "/opt/ml/project/input_dir/video/testvideo_3_1_test2/20220530_111334.542-1.png\n",
      "\n",
      "\n",
      "\n",
      "/opt/ml/project/input_dir/video/testvideo_3_1_test2/20220530_111334.481-2.png/opt/ml/project/input_dir/video/testvideo_3_1_test2/20220530_111328.146-1.png/opt/ml/project/input_dir/video/testvideo_3_1_test2/20220530_111333.956-2.png/opt/ml/project/input_dir/video/testvideo_3_1_test2/20220530_111328.085-0.png/opt/ml/project/input_dir/video/testvideo_3_1_test2/20220530_111328.434-3.png/opt/ml/project/input_dir/video/testvideo_3_1_test2/20220530_111322.542-0.png\n",
      "/opt/ml/project/input_dir/video/testvideo_3_1_test2/20220530_111305.729-0.png\n",
      "/opt/ml/project/input_dir/video/testvideo_3_1_test2/20220530_111305.672-3.png\n",
      "\n",
      "/opt/ml/project/input_dir/video/testvideo_3_1_test2/20220530_111305.280-0.png/opt/ml/project/input_dir/video/testvideo_3_1_test2/20220530_111334.481-0.png\n",
      "/opt/ml/project/input_dir/video/testvideo_3_1_test2/20220530_111316.938-0.png\n",
      "/opt/ml/project/input_dir/video/testvideo_3_1_test2/20220530_111310.876-0.png/opt/ml/project/input_dir/video/testvideo_3_1_test2/20220530_111328.232-3.png\n",
      "\n",
      "/opt/ml/project/input_dir/video/testvideo_3_1_test2/20220530_111334.251-0.png\n",
      "/opt/ml/project/input_dir/video/testvideo_3_1_test2/20220530_111322.542-2.png\n",
      "\n",
      "/opt/ml/project/input_dir/video/testvideo_3_1_test2/20220530_111328.486-1.png\n",
      "/opt/ml/project/input_dir/video/testvideo_3_1_test2/20220530_111305.811-3.png\n",
      "/opt/ml/project/input_dir/video/testvideo_3_1_test2/20220530_111333.837-1.png/opt/ml/project/input_dir/video/testvideo_3_1_test2/20220530_111305.340-0.png\n",
      "\n",
      "/opt/ml/project/input_dir/video/testvideo_3_1_test2/20220530_111316.570-1.png\n",
      "/opt/ml/project/input_dir/video/testvideo_3_1_test2/20220530_111334.251-1.png/opt/ml/project/input_dir/video/testvideo_3_1_test2/20220530_111317.220-1.png/opt/ml/project/input_dir/video/testvideo_3_1_test2/20220530_111311.072-1.png\n",
      "/opt/ml/project/input_dir/video/testvideo_3_1_test2/20220530_111328.353-1.png\n",
      "\n",
      "\n",
      "/opt/ml/project/input_dir/video/testvideo_3_1_test2/20220530_111334.542-0.png/opt/ml/project/input_dir/video/testvideo_3_1_test2/20220530_111322.761-1.png/opt/ml/project/input_dir/video/testvideo_3_1_test2/20220530_111316.510-2.png\n",
      "/opt/ml/project/input_dir/video/testvideo_3_1_test2/20220530_111310.876-1.png/opt/ml/project/input_dir/video/testvideo_3_1_test2/20220530_111322.761-0.png\n",
      "\n",
      "\n",
      "/opt/ml/project/input_dir/video/testvideo_3_1_test2/20220530_111328.232-2.png/opt/ml/project/input_dir/video/testvideo_3_1_test2/20220530_111328.292-0.png\n",
      "\n",
      "\n",
      "/opt/ml/project/input_dir/video/testvideo_3_1_test2/20220530_111328.562-3.png\n",
      "/opt/ml/project/input_dir/video/testvideo_3_1_test2/20220530_111305.597-0.png/opt/ml/project/input_dir/video/testvideo_3_1_test2/20220530_111328.029-0.png\n",
      "\n",
      "\n",
      "/opt/ml/project/input_dir/video/testvideo_3_1_test2/20220530_111311.072-0.png/opt/ml/project/input_dir/video/testvideo_3_1_test2/20220530_111317.220-0.png/opt/ml/project/input_dir/video/testvideo_3_1_test2/20220530_111334.481-3.png\n",
      "/opt/ml/project/input_dir/video/testvideo_3_1_test2/20220530_111334.334-0.png/opt/ml/project/input_dir/video/testvideo_3_1_test2/20220530_111333.837-2.png/opt/ml/project/input_dir/video/testvideo_3_1_test2/20220530_111328.085-1.png\n",
      "\n",
      "/opt/ml/project/input_dir/video/testvideo_3_1_test2/20220530_111310.799-0.png\n",
      "\n",
      "\n",
      "/opt/ml/project/input_dir/video/testvideo_3_1_test2/20220530_111334.334-1.png\n",
      "/opt/ml/project/input_dir/video/testvideo_3_1_test2/20220530_111322.433-1.png\n",
      "/opt/ml/project/input_dir/video/testvideo_3_1_test2/20220530_111322.699-1.png/opt/ml/project/input_dir/video/testvideo_3_1_test2/20220530_111305.549-2.png\n",
      "/opt/ml/project/input_dir/video/testvideo_3_1_test2/20220530_111322.358-0.png\n",
      "/opt/ml/project/input_dir/video/testvideo_3_1_test2/20220530_111334.016-0.png/opt/ml/project/input_dir/video/testvideo_3_1_test2/20220530_111305.672-2.png\n",
      "\n",
      "\n",
      "/opt/ml/project/input_dir/video/testvideo_3_1_test2/20220530_111328.434-1.png/opt/ml/project/input_dir/video/testvideo_3_1_test2/20220530_111305.871-1.png/opt/ml/project/input_dir/video/testvideo_3_1_test2/20220530_111334.334-3.png\n",
      "\n",
      "\n",
      "/opt/ml/project/input_dir/video/testvideo_3_1_test2/20220530_111333.882-0.png\n",
      "/opt/ml/project/input_dir/video/testvideo_3_1_test2/20220530_111316.794-1.png\n",
      "/opt/ml/project/input_dir/video/testvideo_3_1_test2/20220530_111310.998-1.png\n",
      "/opt/ml/project/input_dir/video/testvideo_3_1_test2/20220530_111310.676-0.png\n",
      "/opt/ml/project/input_dir/video/testvideo_3_1_test2/20220530_111305.597-1.png/opt/ml/project/input_dir/video/testvideo_3_1_test2/20220530_111328.562-1.png\n",
      "/opt/ml/project/input_dir/video/testvideo_3_1_test2/20220530_111305.340-1.png\n",
      "\n",
      "\n",
      "/opt/ml/project/input_dir/video/testvideo_3_1_test2/20220530_111310.945-1.png/opt/ml/project/input_dir/video/testvideo_3_1_test2/20220530_111328.146-0.png\n",
      "/opt/ml/project/input_dir/video/testvideo_3_1_test2/20220530_111316.718-1.png\n",
      "plot array (uint8) size: 67.18359375 MiB\n"
     ]
    },
    {
     "data": {
      "image/png": "[encoded data removed]",
      "text/plain": [
       "<Figure size 432x288 with 1 Axes>"
      ]
     },
     "metadata": {
      "needs_background": "light"
     },
     "output_type": "display_data"
    }
   ],
   "source": [
    "# 클러스터링(fingerprints) 후 결과 출력\n",
    "clusters = calc.cluster(fingerprints, sim=0.60, method='single', min_csize=3) # 높일수록 엄격하게\n",
    "\n",
    "postproc.make_links(clusters, os.path.join(result_dir, 'imagecluster/clusters'))\n",
    "\n",
    "images = icio.read_images(result_dir, size=(224,224))\n",
    "\n",
    "fig, ax = postproc.plot_clusters(clusters, images)\n",
    "fig.savefig(os.path.join(result_dir, 'imagecluster/_cluster.png'))\n",
    "postproc.plt.show()"
   ]
  },
  {
   "cell_type": "code",
   "execution_count": null,
   "metadata": {},
   "outputs": [],
   "source": []
  }
 ],
 "metadata": {
  "interpreter": {
   "hash": "d4d1e4263499bec80672ea0156c357c1ee493ec2b1c70f0acce89fc37c4a6abe"
  },
  "kernelspec": {
   "display_name": "Python 3 (ipykernel)",
   "language": "python",
   "name": "python3"
  },
  "language_info": {
   "codemirror_mode": {
    "name": "ipython",
    "version": 3
   },
   "file_extension": ".py",
   "mimetype": "text/x-python",
   "name": "python",
   "nbconvert_exporter": "python",
   "pygments_lexer": "ipython3",
   "version": "3.8.5"
  }
 },
 "nbformat": 4,
 "nbformat_minor": 4
}
