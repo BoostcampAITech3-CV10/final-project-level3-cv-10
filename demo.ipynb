{
 "cells": [
  {
   "cell_type": "code",
   "execution_count": 4,
   "id": "4c48adfe-37da-4838-b65f-2b190386f4d4",
   "metadata": {},
   "outputs": [],
   "source": [
    "import os.path as osp\n",
    "import os\n",
    "\n",
    "from face_extractor.face_extractor import FaceExtractor"
   ]
  },
  {
   "cell_type": "code",
   "execution_count": 5,
   "id": "faf5de04-0a59-4fec-a04f-683d6d86b0d6",
   "metadata": {},
   "outputs": [],
   "source": [
    "if not osp.isdir('/opt/ml/input/final-project-level3-cv-10/scene_detection_imgs'):\n",
    "    os.makedirs('/opt/ml/input/final-project-level3-cv-10/scene_detection_imgs')"
   ]
  },
  {
   "cell_type": "code",
   "execution_count": 2,
   "id": "d42e3d57-328f-43a7-ba94-7a1653a4e453",
   "metadata": {},
   "outputs": [
    {
     "name": "stdout",
     "output_type": "stream",
     "text": [
      "--------------------------------------------------------------------------------\n",
      "[Source Video File]: /opt/ml/input/final-project-level3-cv-10/data/sample1_0-300s.mp4\n",
      "[Frame resolution H x W]: (720.0 x 1280.0)\n",
      "[FPS]: 24\n",
      "[Total number of frames]: 7200\n",
      "[Total number of seconds]: 300\n",
      "[Similiarty Threshold]: 0.62\n",
      "Process every 3 secs (72 frames)\n",
      "--------------------------------------------------------------------------------\n"
     ]
    }
   ],
   "source": [
    "extractor = FaceExtractor(\n",
    "    '/opt/ml/input/final-project-level3-cv-10/data/sample1_0-300s.mp4',\n",
    "    '/opt/ml/input/final-project-level3-cv-10/data/',\n",
    "    '/opt/ml/input/final-project-level3-cv-10/result',\n",
    "    threshold=0.62,\n",
    "    face_cnt=200\n",
    ")"
   ]
  },
  {
   "cell_type": "code",
   "execution_count": 3,
   "id": "a2cf1613-b5ac-4973-80dc-c2e7c358c0d9",
   "metadata": {},
   "outputs": [
    {
     "name": "stdout",
     "output_type": "stream",
     "text": [
      "Using GPU\n"
     ]
    }
   ],
   "source": [
    "import face_recognition\n",
    "\n",
    "def check_use_gpu(TARGET_IMG_PATH):\n",
    "    image = face_recognition.load_image_file(TARGET_IMG_PATH)\n",
    "    face_locations = face_recognition.face_locations(image,model='cnn')\n",
    "    if len(face_locations) > 0:\n",
    "        print('Using GPU')\n",
    "    else:\n",
    "        print('***Not using GPU***')\n",
    "\n",
    "TARGET_IMG_PATH = \"/opt/ml/input/final-project-level3-cv-10/data/img1.png\"\n",
    "check_use_gpu(TARGET_IMG_PATH)"
   ]
  },
  {
   "cell_type": "code",
   "execution_count": 4,
   "id": "73b8a416-71aa-4753-a9ec-05a3bb89d466",
   "metadata": {
    "tags": []
   },
   "outputs": [
    {
     "name": "stdout",
     "output_type": "stream",
     "text": [
      "(0~63) | idx 63\n",
      "(63~122) | idx 122\n",
      "(122~160) | idx 160\n",
      "(160~203) | idx 203\n",
      "(203~231) | idx 231\n",
      "(231~261) | idx 261\n",
      "(261~331) | idx 331\n",
      "(331~432) | idx 432\n",
      "Frames len:  16\n",
      "image saved path:  /opt/ml/input/final-project-level3-cv-10/result/20220601_101112.573-0.png\n",
      "image saved path:  /opt/ml/input/final-project-level3-cv-10/result/20220601_101112.573-1.png\n",
      "image saved path:  /opt/ml/input/final-project-level3-cv-10/result/20220601_101112.573-2.png\n",
      "image saved path:  /opt/ml/input/final-project-level3-cv-10/result/20220601_101112.573-3.png\n",
      "image saved path:  /opt/ml/input/final-project-level3-cv-10/result/20220601_101112.573-4.png\n",
      "image saved path:  /opt/ml/input/final-project-level3-cv-10/result/20220601_101112.573-5.png\n",
      "image saved path:  /opt/ml/input/final-project-level3-cv-10/result/20220601_101112.573-6.png\n",
      "image saved path:  /opt/ml/input/final-project-level3-cv-10/result/20220601_101112.573-7.png\n",
      "image saved path:  /opt/ml/input/final-project-level3-cv-10/result/20220601_101112.573-8.png\n",
      "image saved path:  /opt/ml/input/final-project-level3-cv-10/result/20220601_101112.573-9.png\n",
      "image saved path:  /opt/ml/input/final-project-level3-cv-10/result/20220601_101112.573-10.png\n",
      "image saved path:  /opt/ml/input/final-project-level3-cv-10/result/20220601_101112.573-11.png\n",
      "image saved path:  /opt/ml/input/final-project-level3-cv-10/result/20220601_101112.573-12.png\n",
      "image saved path:  /opt/ml/input/final-project-level3-cv-10/result/20220601_101112.573-13.png\n",
      "image saved path:  /opt/ml/input/final-project-level3-cv-10/result/20220601_101112.573-14.png\n",
      "image saved path:  /opt/ml/input/final-project-level3-cv-10/result/20220601_101112.573-15.png\n",
      "image saved path:  /opt/ml/input/final-project-level3-cv-10/result/20220601_101112.573-16.png\n",
      "image saved path:  /opt/ml/input/final-project-level3-cv-10/result/20220601_101112.573-17.png\n",
      "image saved path:  /opt/ml/input/final-project-level3-cv-10/result/20220601_101112.573-18.png\n",
      "image saved path:  /opt/ml/input/final-project-level3-cv-10/result/20220601_101112.573-19.png\n",
      "Face images:  20\n",
      "(432~512) | idx 512\n",
      "(512~672) | idx 672\n",
      "(672~708) | idx 708\n",
      "(708~762) | idx 762\n",
      "(762~812) | idx 812\n",
      "(812~886) | idx 886\n",
      "(886~951) | idx 951\n",
      "(951~975) | idx 975\n",
      "Frames len:  16\n",
      "image saved path:  /opt/ml/input/final-project-level3-cv-10/result/20220601_101117.712-0.png\n",
      "image saved path:  /opt/ml/input/final-project-level3-cv-10/result/20220601_101117.712-1.png\n",
      "image saved path:  /opt/ml/input/final-project-level3-cv-10/result/20220601_101117.712-2.png\n",
      "image saved path:  /opt/ml/input/final-project-level3-cv-10/result/20220601_101117.712-3.png\n",
      "image saved path:  /opt/ml/input/final-project-level3-cv-10/result/20220601_101117.712-4.png\n",
      "image saved path:  /opt/ml/input/final-project-level3-cv-10/result/20220601_101117.712-5.png\n",
      "image saved path:  /opt/ml/input/final-project-level3-cv-10/result/20220601_101117.712-6.png\n",
      "image saved path:  /opt/ml/input/final-project-level3-cv-10/result/20220601_101117.712-7.png\n",
      "image saved path:  /opt/ml/input/final-project-level3-cv-10/result/20220601_101117.712-8.png\n",
      "image saved path:  /opt/ml/input/final-project-level3-cv-10/result/20220601_101117.712-9.png\n",
      "image saved path:  /opt/ml/input/final-project-level3-cv-10/result/20220601_101117.712-10.png\n",
      "image saved path:  /opt/ml/input/final-project-level3-cv-10/result/20220601_101117.712-11.png\n",
      "image saved path:  /opt/ml/input/final-project-level3-cv-10/result/20220601_101117.712-12.png\n",
      "image saved path:  /opt/ml/input/final-project-level3-cv-10/result/20220601_101117.712-13.png\n",
      "Face images:  34\n",
      "(975~1020) | idx 1020\n",
      "(1020~1036) | idx 1036\n",
      "(1036~1120) | idx 1120\n",
      "(1120~1214) | idx 1214\n",
      "(1214~1293) | idx 1293\n",
      "(1293~1334) | idx 1334\n",
      "(1334~1372) | idx 1372\n",
      "(1372~1408) | idx 1408\n",
      "Frames len:  16\n",
      "image saved path:  /opt/ml/input/final-project-level3-cv-10/result/20220601_101119.440-0.png\n",
      "image saved path:  /opt/ml/input/final-project-level3-cv-10/result/20220601_101119.440-1.png\n",
      "image saved path:  /opt/ml/input/final-project-level3-cv-10/result/20220601_101119.440-2.png\n",
      "image saved path:  /opt/ml/input/final-project-level3-cv-10/result/20220601_101119.440-3.png\n",
      "image saved path:  /opt/ml/input/final-project-level3-cv-10/result/20220601_101119.440-4.png\n",
      "image saved path:  /opt/ml/input/final-project-level3-cv-10/result/20220601_101119.440-5.png\n",
      "image saved path:  /opt/ml/input/final-project-level3-cv-10/result/20220601_101119.440-6.png\n",
      "image saved path:  /opt/ml/input/final-project-level3-cv-10/result/20220601_101119.440-7.png\n",
      "image saved path:  /opt/ml/input/final-project-level3-cv-10/result/20220601_101119.440-8.png\n",
      "image saved path:  /opt/ml/input/final-project-level3-cv-10/result/20220601_101119.440-9.png\n",
      "image saved path:  /opt/ml/input/final-project-level3-cv-10/result/20220601_101119.440-10.png\n",
      "image saved path:  /opt/ml/input/final-project-level3-cv-10/result/20220601_101119.440-11.png\n",
      "image saved path:  /opt/ml/input/final-project-level3-cv-10/result/20220601_101119.440-12.png\n",
      "image saved path:  /opt/ml/input/final-project-level3-cv-10/result/20220601_101119.440-13.png\n",
      "Face images:  48\n",
      "(1408~1450) | idx 1450\n",
      "(1450~1493) | idx 1493\n",
      "(1493~1521) | idx 1521\n",
      "(1521~1589) | idx 1589\n",
      "(1589~1630) | idx 1630\n",
      "(1630~1664) | idx 1664\n",
      "(1664~1712) | idx 1712\n",
      "(1712~1782) | idx 1782\n",
      "Frames len:  16\n",
      "image saved path:  /opt/ml/input/final-project-level3-cv-10/result/20220601_101121.145-0.png\n",
      "image saved path:  /opt/ml/input/final-project-level3-cv-10/result/20220601_101121.145-1.png\n",
      "image saved path:  /opt/ml/input/final-project-level3-cv-10/result/20220601_101121.145-2.png\n",
      "image saved path:  /opt/ml/input/final-project-level3-cv-10/result/20220601_101121.145-3.png\n",
      "image saved path:  /opt/ml/input/final-project-level3-cv-10/result/20220601_101121.145-4.png\n",
      "image saved path:  /opt/ml/input/final-project-level3-cv-10/result/20220601_101121.145-5.png\n",
      "image saved path:  /opt/ml/input/final-project-level3-cv-10/result/20220601_101121.145-6.png\n",
      "image saved path:  /opt/ml/input/final-project-level3-cv-10/result/20220601_101121.145-7.png\n",
      "image saved path:  /opt/ml/input/final-project-level3-cv-10/result/20220601_101121.145-8.png\n",
      "image saved path:  /opt/ml/input/final-project-level3-cv-10/result/20220601_101121.145-9.png\n",
      "image saved path:  /opt/ml/input/final-project-level3-cv-10/result/20220601_101121.145-10.png\n",
      "image saved path:  /opt/ml/input/final-project-level3-cv-10/result/20220601_101121.145-11.png\n",
      "image saved path:  /opt/ml/input/final-project-level3-cv-10/result/20220601_101121.145-12.png\n",
      "image saved path:  /opt/ml/input/final-project-level3-cv-10/result/20220601_101121.145-13.png\n",
      "image saved path:  /opt/ml/input/final-project-level3-cv-10/result/20220601_101121.145-14.png\n",
      "image saved path:  /opt/ml/input/final-project-level3-cv-10/result/20220601_101121.145-15.png\n",
      "Face images:  64\n",
      "(1782~1852) | idx 1852\n",
      "(1852~1868) | idx 1868\n",
      "(1868~1908) | idx 1908\n",
      "(1908~1943) | idx 1943\n",
      "(1943~1974) | idx 1974\n",
      "(1974~2014) | idx 2014\n",
      "(2014~2067) | idx 2067\n",
      "(2067~2131) | idx 2131\n",
      "Frames len:  16\n",
      "image saved path:  /opt/ml/input/final-project-level3-cv-10/result/20220601_101122.737-0.png\n",
      "image saved path:  /opt/ml/input/final-project-level3-cv-10/result/20220601_101122.737-1.png\n",
      "image saved path:  /opt/ml/input/final-project-level3-cv-10/result/20220601_101122.737-2.png\n",
      "image saved path:  /opt/ml/input/final-project-level3-cv-10/result/20220601_101122.737-3.png\n",
      "image saved path:  /opt/ml/input/final-project-level3-cv-10/result/20220601_101122.737-4.png\n",
      "image saved path:  /opt/ml/input/final-project-level3-cv-10/result/20220601_101122.737-5.png\n",
      "image saved path:  /opt/ml/input/final-project-level3-cv-10/result/20220601_101122.737-6.png\n",
      "image saved path:  /opt/ml/input/final-project-level3-cv-10/result/20220601_101122.737-7.png\n",
      "image saved path:  /opt/ml/input/final-project-level3-cv-10/result/20220601_101122.737-8.png\n",
      "image saved path:  /opt/ml/input/final-project-level3-cv-10/result/20220601_101122.737-9.png\n",
      "image saved path:  /opt/ml/input/final-project-level3-cv-10/result/20220601_101122.737-10.png\n",
      "image saved path:  /opt/ml/input/final-project-level3-cv-10/result/20220601_101122.737-11.png\n",
      "image saved path:  /opt/ml/input/final-project-level3-cv-10/result/20220601_101122.737-12.png\n",
      "image saved path:  /opt/ml/input/final-project-level3-cv-10/result/20220601_101122.737-13.png\n",
      "image saved path:  /opt/ml/input/final-project-level3-cv-10/result/20220601_101122.737-14.png\n",
      "image saved path:  /opt/ml/input/final-project-level3-cv-10/result/20220601_101122.737-15.png\n",
      "image saved path:  /opt/ml/input/final-project-level3-cv-10/result/20220601_101122.737-16.png\n",
      "image saved path:  /opt/ml/input/final-project-level3-cv-10/result/20220601_101122.737-17.png\n",
      "image saved path:  /opt/ml/input/final-project-level3-cv-10/result/20220601_101122.737-18.png\n",
      "image saved path:  /opt/ml/input/final-project-level3-cv-10/result/20220601_101122.737-19.png\n",
      "image saved path:  /opt/ml/input/final-project-level3-cv-10/result/20220601_101122.737-20.png\n",
      "Face images:  85\n",
      "(2131~2183) | idx 2183\n",
      "(2183~2234) | idx 2234\n",
      "(2234~2281) | idx 2281\n",
      "(2281~2325) | idx 2325\n",
      "(2325~2381) | idx 2381\n",
      "(2381~2426) | idx 2426\n",
      "(2426~2488) | idx 2488\n",
      "(2488~2582) | idx 2582\n",
      "Frames len:  16\n",
      "image saved path:  /opt/ml/input/final-project-level3-cv-10/result/20220601_101124.527-0.png\n",
      "image saved path:  /opt/ml/input/final-project-level3-cv-10/result/20220601_101124.527-1.png\n",
      "image saved path:  /opt/ml/input/final-project-level3-cv-10/result/20220601_101124.527-2.png\n",
      "image saved path:  /opt/ml/input/final-project-level3-cv-10/result/20220601_101124.527-3.png\n",
      "image saved path:  /opt/ml/input/final-project-level3-cv-10/result/20220601_101124.527-4.png\n",
      "image saved path:  /opt/ml/input/final-project-level3-cv-10/result/20220601_101124.527-5.png\n",
      "image saved path:  /opt/ml/input/final-project-level3-cv-10/result/20220601_101124.527-6.png\n",
      "image saved path:  /opt/ml/input/final-project-level3-cv-10/result/20220601_101124.527-7.png\n",
      "image saved path:  /opt/ml/input/final-project-level3-cv-10/result/20220601_101124.527-8.png\n",
      "image saved path:  /opt/ml/input/final-project-level3-cv-10/result/20220601_101124.527-9.png\n",
      "image saved path:  /opt/ml/input/final-project-level3-cv-10/result/20220601_101124.527-10.png\n",
      "image saved path:  /opt/ml/input/final-project-level3-cv-10/result/20220601_101124.527-11.png\n",
      "image saved path:  /opt/ml/input/final-project-level3-cv-10/result/20220601_101124.527-12.png\n",
      "image saved path:  /opt/ml/input/final-project-level3-cv-10/result/20220601_101124.527-13.png\n",
      "image saved path:  /opt/ml/input/final-project-level3-cv-10/result/20220601_101124.527-14.png\n",
      "image saved path:  /opt/ml/input/final-project-level3-cv-10/result/20220601_101124.527-15.png\n",
      "image saved path:  /opt/ml/input/final-project-level3-cv-10/result/20220601_101124.527-16.png\n",
      "image saved path:  /opt/ml/input/final-project-level3-cv-10/result/20220601_101124.527-17.png\n",
      "image saved path:  /opt/ml/input/final-project-level3-cv-10/result/20220601_101124.527-18.png\n",
      "image saved path:  /opt/ml/input/final-project-level3-cv-10/result/20220601_101124.527-19.png\n",
      "image saved path:  /opt/ml/input/final-project-level3-cv-10/result/20220601_101124.527-20.png\n",
      "image saved path:  /opt/ml/input/final-project-level3-cv-10/result/20220601_101124.527-21.png\n",
      "image saved path:  /opt/ml/input/final-project-level3-cv-10/result/20220601_101124.527-22.png\n",
      "image saved path:  /opt/ml/input/final-project-level3-cv-10/result/20220601_101124.527-23.png\n",
      "image saved path:  /opt/ml/input/final-project-level3-cv-10/result/20220601_101124.527-24.png\n",
      "image saved path:  /opt/ml/input/final-project-level3-cv-10/result/20220601_101124.527-25.png\n",
      "image saved path:  /opt/ml/input/final-project-level3-cv-10/result/20220601_101124.527-26.png\n",
      "image saved path:  /opt/ml/input/final-project-level3-cv-10/result/20220601_101124.527-27.png\n",
      "image saved path:  /opt/ml/input/final-project-level3-cv-10/result/20220601_101124.527-28.png\n",
      "image saved path:  /opt/ml/input/final-project-level3-cv-10/result/20220601_101124.527-29.png\n",
      "image saved path:  /opt/ml/input/final-project-level3-cv-10/result/20220601_101124.527-30.png\n",
      "Face images:  116\n",
      "(2582~2649) | idx 2649\n",
      "(2649~2686) | idx 2686\n",
      "(2686~2755) | idx 2755\n",
      "(2755~2839) | idx 2839\n",
      "(2839~2896) | idx 2896\n",
      "(2896~2936) | idx 2936\n",
      "(2936~3023) | idx 3023\n",
      "(3023~3068) | idx 3068\n",
      "Frames len:  16\n",
      "image saved path:  /opt/ml/input/final-project-level3-cv-10/result/20220601_101126.485-0.png\n",
      "image saved path:  /opt/ml/input/final-project-level3-cv-10/result/20220601_101126.485-1.png\n",
      "image saved path:  /opt/ml/input/final-project-level3-cv-10/result/20220601_101126.485-2.png\n",
      "image saved path:  /opt/ml/input/final-project-level3-cv-10/result/20220601_101126.485-3.png\n",
      "image saved path:  /opt/ml/input/final-project-level3-cv-10/result/20220601_101126.485-4.png\n",
      "image saved path:  /opt/ml/input/final-project-level3-cv-10/result/20220601_101126.485-5.png\n",
      "image saved path:  /opt/ml/input/final-project-level3-cv-10/result/20220601_101126.485-6.png\n",
      "image saved path:  /opt/ml/input/final-project-level3-cv-10/result/20220601_101126.485-7.png\n",
      "image saved path:  /opt/ml/input/final-project-level3-cv-10/result/20220601_101126.485-8.png\n",
      "image saved path:  /opt/ml/input/final-project-level3-cv-10/result/20220601_101126.485-9.png\n",
      "image saved path:  /opt/ml/input/final-project-level3-cv-10/result/20220601_101126.485-10.png\n",
      "image saved path:  /opt/ml/input/final-project-level3-cv-10/result/20220601_101126.485-11.png\n",
      "image saved path:  /opt/ml/input/final-project-level3-cv-10/result/20220601_101126.485-12.png\n",
      "image saved path:  /opt/ml/input/final-project-level3-cv-10/result/20220601_101126.485-13.png\n",
      "image saved path:  /opt/ml/input/final-project-level3-cv-10/result/20220601_101126.485-14.png\n",
      "image saved path:  /opt/ml/input/final-project-level3-cv-10/result/20220601_101126.485-15.png\n",
      "image saved path:  /opt/ml/input/final-project-level3-cv-10/result/20220601_101126.485-16.png\n",
      "image saved path:  /opt/ml/input/final-project-level3-cv-10/result/20220601_101126.485-17.png\n",
      "image saved path:  /opt/ml/input/final-project-level3-cv-10/result/20220601_101126.485-18.png\n",
      "image saved path:  /opt/ml/input/final-project-level3-cv-10/result/20220601_101126.485-19.png\n",
      "image saved path:  /opt/ml/input/final-project-level3-cv-10/result/20220601_101126.485-20.png\n",
      "image saved path:  /opt/ml/input/final-project-level3-cv-10/result/20220601_101126.485-21.png\n",
      "image saved path:  /opt/ml/input/final-project-level3-cv-10/result/20220601_101126.485-22.png\n",
      "image saved path:  /opt/ml/input/final-project-level3-cv-10/result/20220601_101126.485-23.png\n",
      "image saved path:  /opt/ml/input/final-project-level3-cv-10/result/20220601_101126.485-24.png\n",
      "image saved path:  /opt/ml/input/final-project-level3-cv-10/result/20220601_101126.485-25.png\n",
      "Face images:  142\n",
      "(3068~3115) | idx 3115\n",
      "(3115~3231) | idx 3231\n",
      "(3231~3272) | idx 3272\n",
      "(3272~3370) | idx 3370\n",
      "(3370~3440) | idx 3440\n",
      "(3440~3508) | idx 3508\n",
      "(3508~3560) | idx 3560\n",
      "(3560~3591) | idx 3591\n",
      "Frames len:  16\n",
      "image saved path:  /opt/ml/input/final-project-level3-cv-10/result/20220601_101128.473-0.png\n",
      "image saved path:  /opt/ml/input/final-project-level3-cv-10/result/20220601_101128.473-1.png\n",
      "image saved path:  /opt/ml/input/final-project-level3-cv-10/result/20220601_101128.473-2.png\n",
      "image saved path:  /opt/ml/input/final-project-level3-cv-10/result/20220601_101128.473-3.png\n",
      "image saved path:  /opt/ml/input/final-project-level3-cv-10/result/20220601_101128.473-4.png\n",
      "image saved path:  /opt/ml/input/final-project-level3-cv-10/result/20220601_101128.473-5.png\n",
      "image saved path:  /opt/ml/input/final-project-level3-cv-10/result/20220601_101128.473-6.png\n",
      "image saved path:  /opt/ml/input/final-project-level3-cv-10/result/20220601_101128.473-7.png\n",
      "image saved path:  /opt/ml/input/final-project-level3-cv-10/result/20220601_101128.473-8.png\n",
      "image saved path:  /opt/ml/input/final-project-level3-cv-10/result/20220601_101128.473-9.png\n",
      "image saved path:  /opt/ml/input/final-project-level3-cv-10/result/20220601_101128.473-10.png\n",
      "image saved path:  /opt/ml/input/final-project-level3-cv-10/result/20220601_101128.473-11.png\n",
      "image saved path:  /opt/ml/input/final-project-level3-cv-10/result/20220601_101128.473-12.png\n",
      "image saved path:  /opt/ml/input/final-project-level3-cv-10/result/20220601_101128.473-13.png\n",
      "image saved path:  /opt/ml/input/final-project-level3-cv-10/result/20220601_101128.473-14.png\n",
      "image saved path:  /opt/ml/input/final-project-level3-cv-10/result/20220601_101128.473-15.png\n",
      "image saved path:  /opt/ml/input/final-project-level3-cv-10/result/20220601_101128.473-16.png\n",
      "image saved path:  /opt/ml/input/final-project-level3-cv-10/result/20220601_101128.473-17.png\n",
      "image saved path:  /opt/ml/input/final-project-level3-cv-10/result/20220601_101128.473-18.png\n",
      "image saved path:  /opt/ml/input/final-project-level3-cv-10/result/20220601_101128.473-19.png\n",
      "image saved path:  /opt/ml/input/final-project-level3-cv-10/result/20220601_101128.473-20.png\n",
      "image saved path:  /opt/ml/input/final-project-level3-cv-10/result/20220601_101128.473-21.png\n",
      "image saved path:  /opt/ml/input/final-project-level3-cv-10/result/20220601_101128.473-22.png\n",
      "image saved path:  /opt/ml/input/final-project-level3-cv-10/result/20220601_101128.473-23.png\n",
      "Face images:  166\n",
      "Total Time Taken: 17.898845434188843 seconds\n",
      "Captured frames:  3591\n"
     ]
    }
   ],
   "source": [
    "fingerprints = extractor.extract_fingerprints()\n",
    "# fingerprints\n",
    "# clusters = extractor.cluster_fingerprints(fingerprints)"
   ]
  },
  {
   "cell_type": "code",
   "execution_count": 6,
   "id": "62583df6-7b97-4e7a-b484-404489a03c58",
   "metadata": {},
   "outputs": [
    {
     "name": "stdout",
     "output_type": "stream",
     "text": [
      "#images : #clusters\n",
      "4 : 5\n",
      "6 : 1\n",
      "8 : 2\n",
      "26 : 1\n",
      "#images in clusters total:  68\n",
      "cluster dir: /opt/ml/input/final-project-level3-cv-10/result/imagecluster/clusters\n"
     ]
    },
    {
     "ename": "IndexError",
     "evalue": "list index out of range",
     "output_type": "error",
     "traceback": [
      "\u001b[0;31m---------------------------------------------------------------------------\u001b[0m",
      "\u001b[0;31mIndexError\u001b[0m                                Traceback (most recent call last)",
      "Input \u001b[0;32mIn [6]\u001b[0m, in \u001b[0;36m<cell line: 1>\u001b[0;34m()\u001b[0m\n\u001b[0;32m----> 1\u001b[0m clusters \u001b[38;5;241m=\u001b[39m \u001b[43mextractor\u001b[49m\u001b[38;5;241;43m.\u001b[39;49m\u001b[43mcluster_fingerprints\u001b[49m\u001b[43m(\u001b[49m\u001b[43mfingerprints\u001b[49m\u001b[43m)\u001b[49m\n",
      "File \u001b[0;32m~/input/final-project-level3-cv-10/face_extractor/face_extractor_2.py:178\u001b[0m, in \u001b[0;36mFaceExtractor.cluster_fingerprints\u001b[0;34m(self, fingerprints)\u001b[0m\n\u001b[1;32m    176\u001b[0m postproc\u001b[38;5;241m.\u001b[39mmake_links(clusters, osp\u001b[38;5;241m.\u001b[39mjoin(\u001b[38;5;28mself\u001b[39m\u001b[38;5;241m.\u001b[39mresult_dir, \u001b[38;5;124m'\u001b[39m\u001b[38;5;124mimagecluster/clusters\u001b[39m\u001b[38;5;124m'\u001b[39m))\n\u001b[1;32m    177\u001b[0m images \u001b[38;5;241m=\u001b[39m icio\u001b[38;5;241m.\u001b[39mread_images(\u001b[38;5;28mself\u001b[39m\u001b[38;5;241m.\u001b[39mresult_dir, size\u001b[38;5;241m=\u001b[39m(\u001b[38;5;241m224\u001b[39m, \u001b[38;5;241m224\u001b[39m))\n\u001b[0;32m--> 178\u001b[0m fig, ax \u001b[38;5;241m=\u001b[39m \u001b[43mpostproc\u001b[49m\u001b[38;5;241;43m.\u001b[39;49m\u001b[43mplot_clusters\u001b[49m\u001b[43m(\u001b[49m\u001b[43mclusters\u001b[49m\u001b[43m,\u001b[49m\u001b[43m \u001b[49m\u001b[43mimages\u001b[49m\u001b[43m)\u001b[49m\n\u001b[1;32m    179\u001b[0m fig\u001b[38;5;241m.\u001b[39msavefig(os\u001b[38;5;241m.\u001b[39mpath\u001b[38;5;241m.\u001b[39mjoin(\u001b[38;5;28mself\u001b[39m\u001b[38;5;241m.\u001b[39mresult_dir, \u001b[38;5;124m'\u001b[39m\u001b[38;5;124mimagecluster/_cluster.png\u001b[39m\u001b[38;5;124m'\u001b[39m))\n\u001b[1;32m    180\u001b[0m postproc\u001b[38;5;241m.\u001b[39mplt\u001b[38;5;241m.\u001b[39mshow()\n",
      "File \u001b[0;32m~/input/final-project-level3-cv-10/imagecluster/postproc.py:37\u001b[0m, in \u001b[0;36mplot_clusters\u001b[0;34m(clusters, images, max_csize, mem_limit)\u001b[0m\n\u001b[1;32m     35\u001b[0m \u001b[38;5;66;03m# csize (number of images per cluster)\u001b[39;00m\n\u001b[1;32m     36\u001b[0m nrows \u001b[38;5;241m=\u001b[39m stats[:,\u001b[38;5;241m0\u001b[39m]\u001b[38;5;241m.\u001b[39mmax()\n\u001b[0;32m---> 37\u001b[0m shape \u001b[38;5;241m=\u001b[39m images[\u001b[38;5;28;43mlist\u001b[39;49m\u001b[43m(\u001b[49m\u001b[43mimages\u001b[49m\u001b[38;5;241;43m.\u001b[39;49m\u001b[43mkeys\u001b[49m\u001b[43m(\u001b[49m\u001b[43m)\u001b[49m\u001b[43m)\u001b[49m\u001b[43m[\u001b[49m\u001b[38;5;241;43m0\u001b[39;49m\u001b[43m]\u001b[49m]\u001b[38;5;241m.\u001b[39mshape[:\u001b[38;5;241m2\u001b[39m]\n\u001b[1;32m     38\u001b[0m mem \u001b[38;5;241m=\u001b[39m nrows \u001b[38;5;241m*\u001b[39m shape[\u001b[38;5;241m0\u001b[39m] \u001b[38;5;241m*\u001b[39m ncols \u001b[38;5;241m*\u001b[39m shape[\u001b[38;5;241m1\u001b[39m] \u001b[38;5;241m*\u001b[39m \u001b[38;5;241m3\u001b[39m\n\u001b[1;32m     39\u001b[0m \u001b[38;5;28;01mif\u001b[39;00m mem \u001b[38;5;241m>\u001b[39m mem_limit:\n",
      "\u001b[0;31mIndexError\u001b[0m: list index out of range"
     ]
    }
   ],
   "source": [
    "clusters = extractor.cluster_fingerprints(fingerprints)"
   ]
  },
  {
   "cell_type": "code",
   "execution_count": 11,
   "id": "26d958cd-cb41-4dc5-b80a-d4ba133cf950",
   "metadata": {},
   "outputs": [],
   "source": [
    "import os"
   ]
  },
  {
   "cell_type": "code",
   "execution_count": 14,
   "id": "ae90e07a-e539-4f82-9810-2b7e80b43ba6",
   "metadata": {},
   "outputs": [
    {
     "data": {
      "text/plain": [
       "False"
      ]
     },
     "execution_count": 14,
     "metadata": {},
     "output_type": "execute_result"
    }
   ],
   "source": [
    "os.path.isdir('/opt/ml/input/final-project-level3-cv-10/result')"
   ]
  },
  {
   "cell_type": "code",
   "execution_count": 15,
   "id": "6a2811d3-cecf-4a27-b7be-adfb4b8be425",
   "metadata": {},
   "outputs": [],
   "source": [
    "os.makedirs('/opt/ml/input/final-project-level3-cv-10/result')"
   ]
  },
  {
   "cell_type": "code",
   "execution_count": 18,
   "id": "6b1c2537-9026-4165-8e08-bc9f32e88122",
   "metadata": {},
   "outputs": [
    {
     "name": "stdout",
     "output_type": "stream",
     "text": [
      "not exists\n"
     ]
    }
   ],
   "source": [
    "if not os.path.isdir('/opt/ml/input/final-project-level3-cv-10/result'):\n",
    "    os.makedirs"
   ]
  },
  {
   "cell_type": "code",
   "execution_count": null,
   "id": "529bba56-653f-4fe3-9a1a-96f82234e511",
   "metadata": {},
   "outputs": [],
   "source": []
  }
 ],
 "metadata": {
  "kernelspec": {
   "display_name": "Python 3 (ipykernel)",
   "language": "python",
   "name": "python3"
  },
  "language_info": {
   "codemirror_mode": {
    "name": "ipython",
    "version": 3
   },
   "file_extension": ".py",
   "mimetype": "text/x-python",
   "name": "python",
   "nbconvert_exporter": "python",
   "pygments_lexer": "ipython3",
   "version": "3.8.5"
  }
 },
 "nbformat": 4,
 "nbformat_minor": 5
}
